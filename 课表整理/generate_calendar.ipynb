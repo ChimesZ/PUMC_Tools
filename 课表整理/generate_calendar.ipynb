{
 "cells": [
  {
   "cell_type": "markdown",
   "metadata": {},
   "source": [
    "# 基于ics的协和课表日历自动生成"
   ]
  },
  {
   "cell_type": "code",
   "execution_count": 1,
   "metadata": {},
   "outputs": [
    {
     "data": {
      "text/html": [
       "<div>\n",
       "<style scoped>\n",
       "    .dataframe tbody tr th:only-of-type {\n",
       "        vertical-align: middle;\n",
       "    }\n",
       "\n",
       "    .dataframe tbody tr th {\n",
       "        vertical-align: top;\n",
       "    }\n",
       "\n",
       "    .dataframe thead th {\n",
       "        text-align: right;\n",
       "    }\n",
       "</style>\n",
       "<table border=\"1\" class=\"dataframe\">\n",
       "  <thead>\n",
       "    <tr style=\"text-align: right;\">\n",
       "      <th></th>\n",
       "      <th>周次</th>\n",
       "      <th>月份</th>\n",
       "      <th>日期</th>\n",
       "      <th>星期</th>\n",
       "      <th>节次</th>\n",
       "      <th>内容</th>\n",
       "      <th>学时</th>\n",
       "      <th>教师</th>\n",
       "      <th>课程</th>\n",
       "    </tr>\n",
       "  </thead>\n",
       "  <tbody>\n",
       "    <tr>\n",
       "      <th>0</th>\n",
       "      <td>8</td>\n",
       "      <td>4</td>\n",
       "      <td>16</td>\n",
       "      <td>二</td>\n",
       "      <td>9-11</td>\n",
       "      <td>造型基本理论</td>\n",
       "      <td>3</td>\n",
       "      <td>戴申倩</td>\n",
       "      <td>医学美术</td>\n",
       "    </tr>\n",
       "    <tr>\n",
       "      <th>1</th>\n",
       "      <td>9</td>\n",
       "      <td>4</td>\n",
       "      <td>23</td>\n",
       "      <td>二</td>\n",
       "      <td>9-11</td>\n",
       "      <td>几何形体透视（人体为例）</td>\n",
       "      <td>3</td>\n",
       "      <td>戴申倩</td>\n",
       "      <td>医学美术</td>\n",
       "    </tr>\n",
       "    <tr>\n",
       "      <th>2</th>\n",
       "      <td>10</td>\n",
       "      <td>4</td>\n",
       "      <td>30</td>\n",
       "      <td>二</td>\n",
       "      <td>9-11</td>\n",
       "      <td>简单有机体构成表现</td>\n",
       "      <td>3</td>\n",
       "      <td>戴申倩</td>\n",
       "      <td>医学美术</td>\n",
       "    </tr>\n",
       "    <tr>\n",
       "      <th>3</th>\n",
       "      <td>11</td>\n",
       "      <td>5</td>\n",
       "      <td>7</td>\n",
       "      <td>二</td>\n",
       "      <td>9-11</td>\n",
       "      <td>骨骼的表现</td>\n",
       "      <td>3</td>\n",
       "      <td>戴申倩</td>\n",
       "      <td>医学美术</td>\n",
       "    </tr>\n",
       "    <tr>\n",
       "      <th>4</th>\n",
       "      <td>11</td>\n",
       "      <td>5</td>\n",
       "      <td>7</td>\n",
       "      <td>二</td>\n",
       "      <td>9-11</td>\n",
       "      <td>生物信息基础——序列分析</td>\n",
       "      <td>2</td>\n",
       "      <td>杨啸林</td>\n",
       "      <td>生物信息学导论</td>\n",
       "    </tr>\n",
       "  </tbody>\n",
       "</table>\n",
       "</div>"
      ],
      "text/plain": [
       "   周次  月份  日期 星期    节次            内容  学时   教师       课程\n",
       "0   8   4  16  二  9-11        造型基本理论   3  戴申倩     医学美术\n",
       "1   9   4  23  二  9-11  几何形体透视（人体为例）   3  戴申倩     医学美术\n",
       "2  10   4  30  二  9-11     简单有机体构成表现   3  戴申倩     医学美术\n",
       "3  11   5   7  二  9-11         骨骼的表现   3  戴申倩     医学美术\n",
       "4  11   5   7  二  9-11  生物信息基础——序列分析   2  杨啸林  生物信息学导论"
      ]
     },
     "execution_count": 1,
     "metadata": {},
     "output_type": "execute_result"
    }
   ],
   "source": [
    "import pandas as pd \n",
    "import numpy as np\n",
    "from ics import Calendar, Event\n",
    "import datetime\n",
    "course_path = '/Users/apple/Desktop/PUMC/课表/选修课表/选修课总日程.xlsx'\n",
    "course_df = pd.read_excel(course_path)\n",
    "course_df.head()"
   ]
  },
  {
   "cell_type": "code",
   "execution_count": 2,
   "metadata": {},
   "outputs": [
    {
     "data": {
      "text/plain": [
       "((8, 0), (9, 50))"
      ]
     },
     "execution_count": 2,
     "metadata": {},
     "output_type": "execute_result"
    }
   ],
   "source": [
    "END_TIME_SET = [\n",
    "    (),\n",
    "    (8,50),\n",
    "    (9,50),\n",
    "    (10,50),\n",
    "    (11,50),\n",
    "    (),\n",
    "    (15,20),\n",
    "    (16,20),\n",
    "    (17,20),\n",
    "    (18,20),\n",
    "    (19,20),\n",
    "    (20,20),\n",
    "]\n",
    "STAR_TIME_SET = [\n",
    "    (),\n",
    "    (8,0),\n",
    "    (9,0),\n",
    "    (10,0),\n",
    "\t(11,0),\n",
    "    (13,30),\n",
    "    (14,30),\n",
    "    (15,30),\n",
    "    (16,30),\n",
    "    (18,30),\n",
    "    (19,30),\n",
    "    (20,30),\n",
    "]\n",
    "def get_start_end_time(time_str):\n",
    "\n",
    "    start_time = int(time_str.split('-')[0])\n",
    "    end_time = int(time_str.split('-')[1])\n",
    "    \n",
    "    return STAR_TIME_SET[start_time], END_TIME_SET[end_time]"
   ]
  },
  {
   "cell_type": "code",
   "execution_count": 3,
   "metadata": {},
   "outputs": [
    {
     "name": "stdout",
     "output_type": "stream",
     "text": [
      "造型基本理论\n",
      "几何形体透视（人体为例）\n",
      "简单有机体构成表现\n",
      "骨骼的表现\n",
      "生物信息基础——序列分析\n",
      "肌肉等表现\n",
      "基因组测序与基因突变分析  \n",
      "序列动作的图像表现\n",
      "转录组分析与通路鉴定\n",
      "颜色及配色基本原理\n",
      "基因组与人类疾病  \n",
      "命题创作\n",
      "生物信息学数据库与知识库资源 \n",
      "实践参观\n",
      "案例教学\n"
     ]
    }
   ],
   "source": [
    "for i in range(len(course_df)):\n",
    "\tcourse = course_df.iloc[i]\n",
    "\tprint(course['内容'].replace('_x000D_\\n',' '))"
   ]
  },
  {
   "cell_type": "code",
   "execution_count": 4,
   "metadata": {},
   "outputs": [
    {
     "data": {
      "text/plain": [
       "<Calendar with 15 events and 0 todo>"
      ]
     },
     "execution_count": 4,
     "metadata": {},
     "output_type": "execute_result"
    }
   ],
   "source": [
    "c = Calendar()\n",
    "for i in range(len(course_df)):\n",
    "\tcourse = course_df.iloc[i]\n",
    "\n",
    "\te = Event()\n",
    "\te.name = '{}：{}'.format(course['课程'], course['内容'].replace('_x000D_\\n',' '))\n",
    "\n",
    "\te.description = '内容：{}, 任课教师：{}'.format(course['内容'].replace('_x000D_\\n',' '), course['教师'])\n",
    "\tstart_time, end_time = get_start_end_time(course['节次'])\n",
    "\te.begin = datetime.datetime(2024, course['月份'], course['日期'], start_time[0]-8, start_time[1])\n",
    "\te.end = datetime.datetime(2024, course['月份'], course['日期'], end_time[0]-8, end_time[1])\n",
    "\tc.events.add(e)\n",
    "c"
   ]
  },
  {
   "cell_type": "code",
   "execution_count": 5,
   "metadata": {},
   "outputs": [],
   "source": [
    "with open(\"选修课表.ics\", \"w\") as f:\n",
    "    f.write(c.serialize())"
   ]
  }
 ],
 "metadata": {
  "kernelspec": {
   "display_name": "base",
   "language": "python",
   "name": "python3"
  },
  "language_info": {
   "codemirror_mode": {
    "name": "ipython",
    "version": 3
   },
   "file_extension": ".py",
   "mimetype": "text/x-python",
   "name": "python",
   "nbconvert_exporter": "python",
   "pygments_lexer": "ipython3",
   "version": "3.10.13"
  }
 },
 "nbformat": 4,
 "nbformat_minor": 2
}
